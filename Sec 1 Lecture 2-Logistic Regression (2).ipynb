{
 "cells": [
  {
   "cell_type": "markdown",
   "id": "117c3ec0",
   "metadata": {},
   "source": [
    "https://github.com/Amandawei067/HW2-441B.git"
   ]
  },
  {
   "cell_type": "markdown",
   "id": "07c34ec6",
   "metadata": {},
   "source": [
    "# 1.) Pull in Data and Convert ot Monthly"
   ]
  },
  {
   "cell_type": "code",
   "execution_count": 1,
   "id": "b48f7d57",
   "metadata": {},
   "outputs": [],
   "source": [
    "import yfinance as yf\n",
    "import pandas as pd\n",
    "import numpy as np\n",
    "import matplotlib.pyplot as plt"
   ]
  },
  {
   "cell_type": "code",
   "execution_count": 8,
   "id": "4fa973aa",
   "metadata": {},
   "outputs": [
    {
     "name": "stderr",
     "output_type": "stream",
     "text": [
      "[*********************100%%**********************]  1 of 1 completed\n"
     ]
    }
   ],
   "source": [
    "# 下载苹果公司的股票数据\n",
    "apple_data = yf.download('AAPL')\n",
    "\n",
    "# 按月重采样，获取每个月最后一个交易日的调整后收盘价\n",
    "df = apple_data.resample(\"M\").last()[[\"Adj Close\"]]  # 选择调整后的收盘价列\n",
    "\n",
    "# 这里的df就是最终的DataFrame，包含每个月最后一个交易日的调整后收盘价"
   ]
  },
  {
   "cell_type": "markdown",
   "id": "54bbfd02",
   "metadata": {},
   "source": [
    "# 2.) Create columns. \n",
    "  - Current Stock Price, Difference in stock price, Whether it went up or down over the next month,  option premium"
   ]
  },
  {
   "cell_type": "code",
   "execution_count": 9,
   "id": "1f21f202",
   "metadata": {},
   "outputs": [],
   "source": [
    "# 计算每日收盘价的日变化量，并将结果上移一行\n",
    "df[\"Diff\"] = df.diff().shift(-1)  # 计算相邻两日调整后收盘价的差值，并将差值上移一行\n",
    "\n",
    "# 根据Diff的正负号设置Target列，正数为1，负数为-1，零保持为零\n",
    "df[\"Target\"] = np.sign(df[\"Diff\"])  # 根据价格变动方向设定目标值\n",
    "\n",
    "# 计算调整后收盘价的8%作为Premium列\n",
    "df[\"Premium\"] = .08 * df[\"Adj Close\"]  # 计算调整后收盘价的8%作为溢价"
   ]
  },
  {
   "cell_type": "markdown",
   "id": "c9987e25",
   "metadata": {},
   "source": [
    "# 3.) Pull in X data, normalize and build a LogReg on column 2"
   ]
  },
  {
   "cell_type": "code",
   "execution_count": 10,
   "id": "132b4471",
   "metadata": {},
   "outputs": [],
   "source": [
    "import numpy as np\n",
    "import pandas as pd\n",
    "from sklearn.model_selection import train_test_split\n",
    "from sklearn.linear_model import LogisticRegression\n",
    "from sklearn import metrics"
   ]
  },
  {
   "cell_type": "code",
   "execution_count": 11,
   "id": "b21f3c33",
   "metadata": {},
   "outputs": [],
   "source": [
    "#读取csv并且设置index为日期\n",
    "X = pd.read_csv(\"Xdata.csv\", index_col=\"Date\", parse_dates=[\"Date\"])"
   ]
  },
  {
   "cell_type": "code",
   "execution_count": 12,
   "id": "7b38602e",
   "metadata": {},
   "outputs": [],
   "source": [
    "y = df.loc[:\"2023-09-30\",\"Target\"].copy()\n",
    "\n",
    "df= df.loc[:\"2023-09-30\",:].copy()"
   ]
  },
  {
   "cell_type": "code",
   "execution_count": 13,
   "id": "f3bc75a2",
   "metadata": {},
   "outputs": [],
   "source": [
    "logreg = LogisticRegression()\n",
    "\n",
    "logreg.fit(X, y)\n",
    "\n",
    "y_pred = logreg.predict(X)"
   ]
  },
  {
   "cell_type": "code",
   "execution_count": null,
   "id": "09084eb5",
   "metadata": {},
   "outputs": [],
   "source": []
  },
  {
   "cell_type": "markdown",
   "id": "2c2c792d",
   "metadata": {},
   "source": [
    "# 4.) Add columns, prediction and profits."
   ]
  },
  {
   "cell_type": "code",
   "execution_count": 14,
   "id": "8009466a",
   "metadata": {},
   "outputs": [],
   "source": [
    "df[\"Prediction\"] = y_pred"
   ]
  },
  {
   "cell_type": "code",
   "execution_count": 15,
   "id": "4aae021b",
   "metadata": {},
   "outputs": [],
   "source": [
    "df[\"Profits\"] = 0"
   ]
  },
  {
   "cell_type": "code",
   "execution_count": 16,
   "id": "1d41211f",
   "metadata": {},
   "outputs": [],
   "source": [
    "#在预测股价上升并且实际股价也上升的情况下，计算每股的利润，这个利润的数值等于之前计算的溢价（Premium列的值）\n",
    "df.loc[(df[\"Prediction\"]==1) &(df[\"Target\"]==1),\"Profits\"] = df.loc[(df[\"Prediction\"]==1) &(df[\"Target\"]==1),\"Premium\"] "
   ]
  },
  {
   "cell_type": "code",
   "execution_count": 17,
   "id": "7c8a051f",
   "metadata": {},
   "outputs": [],
   "source": [
    "df.loc[(df[\"Prediction\"]==1) &(df[\"Target\"]== -1),\"Profits\"] = df.loc[(df[\"Prediction\"]==1) &(df[\"Target\"]==-1),\"Premium\"] +100*df[\"Diff\"]"
   ]
  },
  {
   "cell_type": "markdown",
   "id": "e379d80c",
   "metadata": {},
   "source": [
    "# 5.) Plot profits over time"
   ]
  },
  {
   "cell_type": "code",
   "execution_count": 18,
   "id": "bc16f4dc",
   "metadata": {},
   "outputs": [
    {
     "data": {
      "text/plain": [
       "[<matplotlib.lines.Line2D at 0x1796266d0>]"
      ]
     },
     "execution_count": 18,
     "metadata": {},
     "output_type": "execute_result"
    },
    {
     "data": {
      "image/png": "[encoded data removed]",
      "text/plain": [
       "<Figure size 640x480 with 1 Axes>"
      ]
     },
     "metadata": {},
     "output_type": "display_data"
    }
   ],
   "source": [
    "#用于计算给定数组的累计和\n",
    "plt.plot(np.cumsum(df[\"Profits\"]))"
   ]
  },
  {
   "cell_type": "markdown",
   "id": "fc49cbaf",
   "metadata": {},
   "source": [
    "# 5.5) your skills from MQE to Help Mr. Lius ventures\n",
    "1)Market Analysis and Forecasting: Utilizing econometric models and statistical analysis, I can forecast market trends, analyze the supply and demand dynamics of cryptocurrencies, and predict the impact of regulatory and economic changes on Avalanche and related assets.\n",
    "\n",
    "2)Risk Management: I can apply Value at Risk (VaR), stress testing, and other risk management techniques to Mr. Liu's investments in Avalanche, ensuring a balanced risk-reward profile.\n",
    "\n",
    "3)Portfolio Optimization: Employing the Markowitz model or more advanced machine learning algorithms, I can optimize Mr. Liu's investment portfolio. This includes determining the optimal asset allocation within the Avalanche ecosystem and between other crypto and traditional assets.\n",
    "\n",
    "4)Algorithmic Trading: Designing and implementing algorithmic trading strategies can maximize returns and minimize costs. I can use time-series analysis, machine learning models, and other quantitative techniques to identify trading opportunities in the Avalanche market."
   ]
  },
  {
   "cell_type": "markdown",
   "id": "5c970b3f",
   "metadata": {},
   "source": [
    "# 6.) Create a loop that stores total profits over time"
   ]
  },
  {
   "cell_type": "code",
   "execution_count": 26,
   "id": "8e055eb5-99fb-4293-b5d5-988cd76340ec",
   "metadata": {},
   "outputs": [
    {
     "name": "stdout",
     "output_type": "stream",
     "text": [
      "{0.2: 0, 0.3: 0, 0.4: 0, 0.5: 0, 0.6: 0, 0.7: 0, 0.8: 0, 0.9: 0}\n"
     ]
    }
   ],
   "source": [
    "from sklearn.linear_model import LogisticRegression\n",
    "from sklearn.metrics import precision_score, recall_score, f1_score\n",
    "\n",
    "# 假设X和y已经被定义并准备好了，且模型已训练\n",
    "logreg = LogisticRegression()\n",
    "logreg.fit(X, y)\n",
    "\n",
    "# 获取属于正类的预测概率\n",
    "probabilities = logreg.predict_proba(X)[:, 1]\n",
    "# 设置一系列不同的阈值\n",
    "thresholds = [0.2, 0.3, 0.4, 0.5, 0.6, 0.7, 0.8, 0.9]\n",
    "\n",
    "sum_of_profits={}\n",
    "# 循环不同的阈值，并计算每个阈值下的性能指标\n",
    "for threshold in thresholds:\n",
    "    # 根据阈值生成新的预测标签\n",
    "    y_pred = np.where(probabilities >= threshold, 1, -1)\n",
    "    \n",
    "    df[\"Prediction\"] = y_pred\n",
    "    df[\"Profits\"] = 0\n",
    "    #在预测股价上升并且实际股价也上升的情况下，计算每股的利润，这个利润的数值等于之前计算的溢价（Premium列的值）\n",
    "    df.loc[(df[\"Prediction\"]==1) &(df[\"Target\"]==1),\"Profits\"] = df.loc[(df[\"Prediction\"]==1) &(df[\"Target\"]==1),\"Premium\"]\n",
    "    df.loc[(df[\"Prediction\"]==1) &(df[\"Target\"]== -1),\"Profits\"] = df.loc[(df[\"Prediction\"]==1) &(df[\"Target\"]==-1),\"Premium\"] +100*df[\"Diff\"]\n",
    "    \n",
    "    sum_of_profits[threshold] = df[\"Profits\"].sum()\n",
    "    \n",
    "print(sum_of_profits)"
   ]
  },
  {
   "cell_type": "markdown",
   "id": "30f8738c",
   "metadata": {},
   "source": [
    "# 7.) What is the optimal threshold and plot the total profits for this model."
   ]
  },
  {
   "cell_type": "code",
   "execution_count": null,
   "id": "aba0f592",
   "metadata": {},
   "outputs": [],
   "source": []
  }
 ],
 "metadata": {
  "kernelspec": {
   "display_name": "Python 3 (ipykernel)",
   "language": "python",
   "name": "python3"
  },
  "language_info": {
   "codemirror_mode": {
    "name": "ipython",
    "version": 3
   },
   "file_extension": ".py",
   "mimetype": "text/x-python",
   "name": "python",
   "nbconvert_exporter": "python",
   "pygments_lexer": "ipython3",
   "version": "3.11.5"
  }
 },
 "nbformat": 4,
 "nbformat_minor": 5
}
